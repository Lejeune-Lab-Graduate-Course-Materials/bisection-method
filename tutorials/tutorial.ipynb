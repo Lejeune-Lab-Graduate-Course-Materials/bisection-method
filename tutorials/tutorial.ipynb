{
 "cells": [
  {
   "cell_type": "markdown",
   "metadata": {},
   "source": [
    "### **Example 1: Find the Square Root of 2**\n",
    "\n",
    "We know that $x^2 - 2 = 0$ has a root at $\\sqrt{2}$. We can use the bisection method to find this root."
   ]
  },
  {
   "cell_type": "code",
   "execution_count": null,
   "metadata": {},
   "outputs": [],
   "source": [
    "from bisectionmethod import bisection_method as bim\n",
    "import os\n",
    "from pathlib import Path\n",
    "\n",
    "# Define the function\n",
    "def f(x):\n",
    "    return x**2 - 2\n",
    "\n",
    "# Define the bounds\n",
    "a = 1.0  # Lower bound\n",
    "b = 2.0  # Upper bound\n",
    "\n",
    "# Call the bisection method\n",
    "result = bim.run_bisection_method(fcn=f, a=a, b=b, tol_input=1e-9, tol_output=1e-30)\n",
    "\n",
    "# Print the result\n",
    "print(\"Root:\", result[\"solution\"])\n",
    "print(\"Number of iterations:\", result[\"num_iter\"])\n",
    "\n",
    "# Plot the results\n",
    "fig_name_with_path = Path(os.getcwd()).resolve().joinpath(\"figs\").resolve().joinpath(\"tutorial_1_bisection_results.png\").resolve()\n",
    "bim.plot_bisection_results(result, fig_name_with_path)\n",
    "fig_name_with_path = Path(os.getcwd()).resolve().joinpath(\"figs\").resolve().joinpath(\"tutorial_1_function_vis.png\").resolve()\n",
    "bim.plot_function_with_inset(f, result, fig_name_with_path)"
   ]
  },
  {
   "cell_type": "markdown",
   "metadata": {},
   "source": [
    "### **Example 2: Find a Root for a Custom Function**\n",
    "\n",
    "Suppose we want to find the root of $\\sin(x) = 0$ in the interval $[3, 4]$. This root corresponds to $\\pi$."
   ]
  },
  {
   "cell_type": "code",
   "execution_count": null,
   "metadata": {},
   "outputs": [],
   "source": [
    "from bisectionmethod import bisection_method as bim\n",
    "import numpy as np\n",
    "\n",
    "import os\n",
    "from pathlib import Path\n",
    "\n",
    "# Define the function\n",
    "def g(x):\n",
    "    return np.sin(x)\n",
    "\n",
    "# Define the bounds\n",
    "a = 3.0  # Lower bound\n",
    "b = 4.0  # Upper bound\n",
    "\n",
    "# Call the bisection method\n",
    "result = bim.run_bisection_method(fcn=g, a=a, b=b, tol_input=1e-9, tol_output=1e-30)\n",
    "\n",
    "# Print the result\n",
    "print(\"Root:\", result[\"solution\"])\n",
    "print(\"Number of iterations:\", result[\"num_iter\"])\n",
    "\n",
    "# Plot the results\n",
    "fig_name_with_path = Path(os.getcwd()).resolve().joinpath(\"figs\").resolve().joinpath(\"tutorial_2_bisection_results.png\").resolve()\n",
    "bim.plot_bisection_results(result, fig_name_with_path)\n",
    "fig_name_with_path = Path(os.getcwd()).resolve().joinpath(\"figs\").resolve().joinpath(\"tutorial_2_function_vis.png\").resolve()\n",
    "bim.plot_function_with_inset(g, result, fig_name_with_path)"
   ]
  },
  {
   "cell_type": "markdown",
   "metadata": {},
   "source": [
    "### **Example 3: Find the Root of a Challenging Function**\n",
    "\n",
    "In this example, we will find the root of a challenging oscillatory function:\n",
    "\n",
    "$$f(x) = 0.1 \\times \\sin(20x) + \\sin(x)$$\n",
    "\n",
    "These oscillations make it a difficult case for root-finding. We will use the interval $[-2, 3]$ and the bisection method to find a root. The bisection method is robust and can handle such challenging functions as long as the interval is properly chosen."
   ]
  },
  {
   "cell_type": "code",
   "execution_count": null,
   "metadata": {},
   "outputs": [],
   "source": [
    "from bisectionmethod import bisection_method as bim\n",
    "import numpy as np\n",
    "import os\n",
    "from pathlib import Path\n",
    "\n",
    "# Define the challenging function\n",
    "def challenging_function(x):\n",
    "    return 0.1 * np.sin(20*x) + np.sin(x)\n",
    "\n",
    "# Define the interval\n",
    "a = -2  # Lower bound\n",
    "b = 3  # Upper bound\n",
    "\n",
    "# Run the bisection method\n",
    "result = bim.run_bisection_method(fcn=challenging_function, a=a, b=b, tol_input=1e-9, tol_output=1e-30)\n",
    "\n",
    "# Extract results\n",
    "root = result[\"solution\"]\n",
    "num_iter = result[\"num_iter\"]\n",
    "\n",
    "# Print the results\n",
    "print(\"Root:\", root)\n",
    "print(\"Number of iterations:\", num_iter)\n",
    "\n",
    "# Plot the results\n",
    "fig_name_with_path = Path(os.getcwd()).resolve().joinpath(\"figs\").resolve().joinpath(\"tutorial_3_bisection_results.png\").resolve()\n",
    "bim.plot_bisection_results(result, fig_name_with_path)\n",
    "fig_name_with_path = Path(os.getcwd()).resolve().joinpath(\"figs\").resolve().joinpath(\"tutorial_3_function_vis.png\").resolve()\n",
    "bim.plot_function_with_inset(challenging_function, result, fig_name_with_path)"
   ]
  },
  {
   "cell_type": "markdown",
   "metadata": {},
   "source": [
    "### **Example 4: In Class Problem 1**\n",
    "\n",
    "Solve eqn. 1 for the mechanical system pictured below. Choose $k=1.0$, $l=1.0$, and $F=0.25$.\n",
    "\n",
    "<img title=\"example_4\" alt=\"example problem 4 picturing a single degree of freedom system\" src=\"figs/example_4.jpeg\">"
   ]
  },
  {
   "cell_type": "code",
   "execution_count": null,
   "metadata": {},
   "outputs": [],
   "source": [
    "from bisectionmethod import bisection_method as bim\n",
    "import numpy as np\n",
    "import os\n",
    "from pathlib import Path\n",
    "\n",
    "\n",
    "def class_ex_1(w):\n",
    "    k = 1.0\n",
    "    l = 1.0\n",
    "    F = 0.25\n",
    "    val = 2.0 * k * (np.sqrt(l ** 2.0 + w **2.0) - l) * w / np.sqrt(l ** 2.0 + w ** 2.0) - F\n",
    "    return val\n",
    "\n",
    "# Define the interval\n",
    "a = 0  # Lower bound\n",
    "b = 3  # Upper bound\n",
    "\n",
    "# Run the bisection method\n",
    "result = bim.run_bisection_method(fcn=class_ex_1, a=a, b=b, tol_input=1e-9, tol_output=1e-30)\n",
    "\n",
    "# Extract results\n",
    "root = result[\"solution\"]\n",
    "num_iter = result[\"num_iter\"]\n",
    "\n",
    "# Print the results\n",
    "print(\"Root:\", root)\n",
    "print(\"Number of iterations:\", num_iter)\n",
    "\n",
    "# Plot the results\n",
    "fig_name_with_path = Path(os.getcwd()).resolve().joinpath(\"figs\").resolve().joinpath(\"tutorial_4_bisection_results.png\").resolve()\n",
    "bim.plot_bisection_results(result, fig_name_with_path)\n",
    "fig_name_with_path = Path(os.getcwd()).resolve().joinpath(\"figs\").resolve().joinpath(\"tutorial_4_function_vis.png\").resolve()\n",
    "bim.plot_function_with_inset(class_ex_1, result, fig_name_with_path)"
   ]
  },
  {
   "cell_type": "markdown",
   "metadata": {},
   "source": [
    "### **Example 5: Additional Mechanics Problem**\n",
    "\n",
    "Solve eqn. 2 for the mechanical system pictured below. Choose $c=1000$, $l=15$, and $F=100$.\n",
    "\n",
    "<img title=\"example_5\" alt=\"example problem 5 picturing a single degree of freedom system\" src=\"figs/example_5.jpeg\">"
   ]
  },
  {
   "cell_type": "code",
   "execution_count": null,
   "metadata": {},
   "outputs": [],
   "source": [
    "from bisectionmethod import bisection_method as bim\n",
    "import numpy as np\n",
    "import os\n",
    "from pathlib import Path\n",
    "\n",
    "\n",
    "def example_5(phi):\n",
    "    c = 1000\n",
    "    l = 15\n",
    "    F = 100\n",
    "    val = c * phi - F * l * np.cos(phi)\n",
    "    return val\n",
    "\n",
    "# Define the interval\n",
    "a = 0  # Lower bound\n",
    "b = 1  # Upper bound\n",
    "\n",
    "# Run the bisection method\n",
    "result = bim.run_bisection_method(fcn=example_5, a=a, b=b, tol_input=1e-9, tol_output=1e-30)\n",
    "\n",
    "# Extract results\n",
    "root = result[\"solution\"]\n",
    "num_iter = result[\"num_iter\"]\n",
    "\n",
    "# Print the results\n",
    "print(\"Root:\", root)\n",
    "print(\"Number of iterations:\", num_iter)\n",
    "\n",
    "# Plot the results\n",
    "fig_name_with_path = Path(os.getcwd()).resolve().joinpath(\"figs\").resolve().joinpath(\"tutorial_5_bisection_results.png\").resolve()\n",
    "bim.plot_bisection_results(result, fig_name_with_path)\n",
    "fig_name_with_path = Path(os.getcwd()).resolve().joinpath(\"figs\").resolve().joinpath(\"tutorial_5_function_vis.png\").resolve()\n",
    "bim.plot_function_with_inset(example_5, result, fig_name_with_path)"
   ]
  },
  {
   "cell_type": "markdown",
   "metadata": {},
   "source": [
    "Thank you to Adrian Buganza Tepole for sharing his notes! You can see that I have used some of the same example problems as him: https://github.com/abuganza/NonlinearFEA/blob/main/JupyterNotebooks/Nonlinearities_in_solid_mechanics.ipynb"
   ]
  }
 ],
 "metadata": {
  "kernelspec": {
   "display_name": "bisection-method-env",
   "language": "python",
   "name": "python3"
  },
  "language_info": {
   "codemirror_mode": {
    "name": "ipython",
    "version": 3
   },
   "file_extension": ".py",
   "mimetype": "text/x-python",
   "name": "python",
   "nbconvert_exporter": "python",
   "pygments_lexer": "ipython3",
   "version": "3.12.8"
  },
  "orig_nbformat": 4
 },
 "nbformat": 4,
 "nbformat_minor": 2
}
